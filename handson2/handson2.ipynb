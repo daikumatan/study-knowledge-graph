{
 "cells": [
  {
   "cell_type": "markdown",
   "metadata": {},
   "source": [
    "# Neo4jによるKnowledge Graph (KG) Hands-On"
   ]
  },
  {
   "cell_type": "code",
   "execution_count": 1,
   "metadata": {},
   "outputs": [],
   "source": [
    "# ! pip install --upgrade pip\n",
    "# ! pip install neo4j\n",
    "# ! pip install langchain_openai\n",
    "# ! pip install dotenv"
   ]
  },
  {
   "cell_type": "markdown",
   "metadata": {},
   "source": [
    "## 事前準備"
   ]
  },
  {
   "cell_type": "code",
   "execution_count": 2,
   "metadata": {},
   "outputs": [],
   "source": [
    "import os\n",
    "from dotenv import load_dotenv, find_dotenv\n",
    "from langchain_openai import OpenAI\n",
    "from neo4j import GraphDatabase, basic_auth\n",
    "import json"
   ]
  },
  {
   "cell_type": "markdown",
   "metadata": {},
   "source": [
    "### OpenAIのAPIキーおよびNeo4j認証関連の環境変数読み込み"
   ]
  },
  {
   "cell_type": "code",
   "execution_count": 5,
   "metadata": {},
   "outputs": [
    {
     "data": {
      "text/plain": [
       "True"
      ]
     },
     "execution_count": 5,
     "metadata": {},
     "output_type": "execute_result"
    }
   ],
   "source": [
    "load_dotenv(find_dotenv('../.env'))"
   ]
  },
  {
   "cell_type": "markdown",
   "metadata": {},
   "source": [
    "### Neo4jへの接続"
   ]
  },
  {
   "cell_type": "code",
   "execution_count": 22,
   "metadata": {},
   "outputs": [
    {
     "name": "stdout",
     "output_type": "stream",
     "text": [
      "Neo4j URL: bolt://localhost:7689\n",
      "Neo4j User: neo4j\n",
      "Neo4j Password: password\n"
     ]
    }
   ],
   "source": [
    "# Neo4jの接続情報\n",
    "neo4j_url = os.environ[\"NEO4J_URI\"]\n",
    "neo4j_user = os.environ[\"NEO4J_USERNAME\"]\n",
    "neo4j_password = os.environ[\"NEO4J_PASSWORD\"] \n",
    "\n",
    "print(f\"Neo4j URL: {neo4j_url}\")\n",
    "print(f\"Neo4j User: {neo4j_user}\")\n",
    "print(f\"Neo4j Password: {neo4j_password}\")\n",
    "\n",
    "# Neo4jセッションの作成\n",
    "driver = GraphDatabase.driver(neo4j_url, auth=(neo4j_user, neo4j_password))"
   ]
  },
  {
   "cell_type": "markdown",
   "metadata": {},
   "source": [
    "### Neo4jのクリーンナップ"
   ]
  },
  {
   "cell_type": "code",
   "execution_count": 23,
   "metadata": {},
   "outputs": [
    {
     "name": "stdout",
     "output_type": "stream",
     "text": [
      "None\n"
     ]
    }
   ],
   "source": [
    "def delete_all_data(tx):\n",
    "    tx.run(\"MATCH (n) DETACH DELETE n\")\n",
    "\n",
    "with driver.session() as session:\n",
    "    all_nodes = session.execute_write(delete_all_data)\n",
    "\n",
    "print(all_nodes)"
   ]
  },
  {
   "cell_type": "markdown",
   "id": "61207a91",
   "metadata": {},
   "source": [
    "## LLMによるトリプル抽出関数\n",
    "\n",
    "- LangChain + OpenAI を使って、文章から (主語, 関係, 目的語) のトリプルを抽出する関数\n",
    "- トリプル（triple）とは、「主語（subject）・関係（relation）・目的語（object）」**の3つからなる知識の最小単位のこと\n",
    "\n"
   ]
  },
  {
   "cell_type": "code",
   "execution_count": 24,
   "metadata": {},
   "outputs": [],
   "source": [
    "def extract_triples(text: str):\n",
    "    llm = OpenAI(temperature=0.0)\n",
    "\n",
    "    prompt = f\"\"\"# 課題\n",
    "次の文章を読み、知識グラフにおける\"エンティティ\" と \"エンティティ間の意味的な関係\" を抽出し、  \n",
    "以下の形式の JSON リストとして出力してください。\n",
    "\n",
    "# 出力形式\n",
    "\n",
    "- relation には、「は」「に」などの助詞を使わず、必ずトリプルの関係を示す言葉を使ってください。\n",
    "- 例えば'出身', '職業', '提案', '受賞', '予測', '父', '子', '構成', '部品'など文脈に応じた意味的な関係をわかりやすい動詞や名詞で示してください\n",
    "- relationは文章に直接明示されていない場合は、subjectとobjectのエンティティから推測してください\n",
    "- 最終的に正しいrelationができているかどうか確認するために、そのrelationを使って文章を作り、元の文章と同じ意味になるかどうかを確認してください\n",
    "- 出力時は全角の数値や特殊文字は半角に変換してください\n",
    "- 改行やスペースを入れないようにしてください\n",
    "\n",
    "```json\n",
    "[\n",
    "  {{\n",
    "    \"subject\": \"主語(固有名詞など)\",\n",
    "    \"relation\": \"関係(例: '出身', '職業', '提案', '受賞', '予測', '父', '子', '構成', '部品' など)\",\n",
    "    \"object\": \"目的語(固有名詞や物事の名称など)\"\n",
    "  }}\n",
    "]\n",
    "```\n",
    "\n",
    "# 文章: {text}\n",
    "\"\"\"\n",
    "\n",
    "    response = llm.invoke(prompt)\n",
    "    return json.loads(response)"
   ]
  },
  {
   "cell_type": "markdown",
   "id": "d5278af8",
   "metadata": {},
   "source": [
    "## トリプル抽出のテスト\n",
    "\n",
    "サンプル文章を使って、意味的なリレーションが抽出されるかを確認します。"
   ]
  },
  {
   "cell_type": "code",
   "execution_count": 25,
   "metadata": {},
   "outputs": [
    {
     "name": "stdout",
     "output_type": "stream",
     "text": [
      "[{'subject': 'アルベルト・アインシュタイン', 'relation': '出身', 'object': 'ドイツ'}, {'subject': 'アルベルト・アインシュタイン', 'relation': '職業', 'object': '理論物理学者'}, {'subject': 'アルベルト・アインシュタイン', 'relation': '提唱', 'object': '相対性理論'}, {'subject': 'アルベルト・アインシュタイン', 'relation': '受賞', 'object': 'ノーベル物理学賞'}, {'subject': 'ノーベル物理学賞', 'relation': '年', 'object': '1921'}]\n"
     ]
    }
   ],
   "source": [
    "test_text = \"\"\"アルベルト・アインシュタインはドイツ生まれの理論物理学者であり、相対性理論を提唱した。1921年にはノーベル物理学賞を受賞した。\"\"\"\n",
    "#test_text = \"\"\"DeepXは、「あらゆる機械の自動化」を実現し、世界の生産現場で生じるさまざまな課題の解決を目指します。\"\"\"\n",
    "triples_result = extract_triples(test_text)\n",
    "print(triples_result)"
   ]
  },
  {
   "cell_type": "markdown",
   "id": "3630f28f",
   "metadata": {},
   "source": [
    "## ✅ Neo4j 接続確認関数\n",
    "この関数は、指定した接続情報を使って `RETURN 1` クエリを投げることで Neo4j に接続できるかを確認します。"
   ]
  },
  {
   "cell_type": "code",
   "execution_count": 26,
   "metadata": {},
   "outputs": [],
   "source": [
    "# トリプルをCREATEする関数例\n",
    "def create_kg_in_neo4j(triples):\n",
    "    with driver.session() as session:\n",
    "        for triple in triples:\n",
    "            subject = triple[\"subject\"]\n",
    "            relation = triple[\"relation\"]\n",
    "            obj = triple[\"object\"]\n",
    "            \n",
    "            # Cypherクエリ例:\n",
    "            # MERGE でノードがなければ作成、あれば再利用し、リレーションも作成\n",
    "            cypher = \"\"\"\n",
    "            MERGE (s:Entity {name: $subject})\n",
    "            MERGE (o:Entity {name: $object})\n",
    "            MERGE (s)-[r:RELATION {type: $relation}]->(o)\n",
    "            \"\"\"\n",
    "            session.run(cypher, subject=subject, object=obj, relation=relation)\n",
    "\n",
    "# 実行例\n",
    "create_kg_in_neo4j(triples_result)"
   ]
  }
 ],
 "metadata": {
  "kernelspec": {
   "display_name": "venv",
   "language": "python",
   "name": "python3"
  },
  "language_info": {
   "codemirror_mode": {
    "name": "ipython",
    "version": 3
   },
   "file_extension": ".py",
   "mimetype": "text/x-python",
   "name": "python",
   "nbconvert_exporter": "python",
   "pygments_lexer": "ipython3",
   "version": "3.11.1"
  }
 },
 "nbformat": 4,
 "nbformat_minor": 2
}
